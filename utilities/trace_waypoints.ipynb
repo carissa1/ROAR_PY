{
 "cells": [
  {
   "cell_type": "code",
   "execution_count": 1,
   "metadata": {},
   "outputs": [],
   "source": [
    "import roar_py_carla\n",
    "import roar_py_interface\n",
    "import carla\n",
    "import numpy as np\n",
    "from typing import List, Tuple\n",
    "import transforms3d as tr3d\n",
    "\n",
    "carla_client = carla.Client('localhost', 2000)\n",
    "carla_client.set_timeout(15.0)\n",
    "roar_py_instance = roar_py_carla.RoarPyCarlaInstance(carla_client)\n",
    "roar_py_world = roar_py_instance.world\n",
    "roar_py_world.set_asynchronous(True)\n",
    "roar_py_world.set_control_steps(0.00, 0.005)"
   ]
  },
  {
   "cell_type": "code",
   "execution_count": 2,
   "metadata": {},
   "outputs": [
    {
     "name": "stdout",
     "output_type": "stream",
     "text": [
      "LaneIDS:  dict_keys([0, 1])\n",
      "ROAR_PY_CARLA: Cleaning up actor instance map\n"
     ]
    }
   ],
   "source": [
    "waypoint_list : List[roar_py_interface.RoarPyWaypoint] = []\n",
    "trace_waypoint_laneid = 1\n",
    "print(\"LaneIDS: \", roar_py_world.comprehensive_waypoints.keys())\n",
    "for lane_id in [0, 1]:\n",
    "    lane_waypoints = roar_py_world.comprehensive_waypoints[lane_id]\n",
    "    assert len(lane_waypoints) % 2 == 0\n",
    "    for i in range(len(lane_waypoints)//2):\n",
    "        first_waypoint = lane_waypoints[2*i]\n",
    "        second_waypoint = lane_waypoints[2*i+1]\n",
    "        real_waypoint = roar_py_interface.RoarPyWaypoint.from_line_representation(\n",
    "            first_waypoint.location,\n",
    "            second_waypoint.location,\n",
    "            first_waypoint.roll_pitch_yaw\n",
    "        )\n",
    "        # print(real_waypoint)\n",
    "        waypoint_list.append(real_waypoint)\n",
    "\n",
    "\n",
    "roar_py_instance.close()\n",
    "np.savez_compressed(\"Monza.npz\", **roar_py_interface.RoarPyWaypoint.save_waypoint_list(waypoint_list))"
   ]
  },
  {
   "cell_type": "code",
   "execution_count": 4,
   "metadata": {},
   "outputs": [],
   "source": [
    "for waypoint in waypoint_list:\n",
    "    origin_loc = waypoint.location\n",
    "    forward_loc = waypoint.location + tr3d.euler.euler2mat(*waypoint.roll_pitch_yaw) @ np.array([0.5,0.0,0.0])\n",
    "    roar_py_world.carla_world.debug.draw_arrow(\n",
    "        roar_py_carla.location_to_carla(origin_loc),\n",
    "        roar_py_carla.location_to_carla(forward_loc),\n",
    "        thickness=0.1,\n",
    "        arrow_size=0.1,\n",
    "        color=carla.Color(0,255,0),\n",
    "        life_time=-1.0\n",
    "    )"
   ]
  },
  {
   "cell_type": "code",
   "execution_count": null,
   "metadata": {},
   "outputs": [],
   "source": []
  }
 ],
 "metadata": {
  "kernelspec": {
   "display_name": "roar_py",
   "language": "python",
   "name": "python3"
  },
  "language_info": {
   "codemirror_mode": {
    "name": "ipython",
    "version": 3
   },
   "file_extension": ".py",
   "mimetype": "text/x-python",
   "name": "python",
   "nbconvert_exporter": "python",
   "pygments_lexer": "ipython3",
   "version": "3.8.19"
  },
  "orig_nbformat": 4
 },
 "nbformat": 4,
 "nbformat_minor": 2
}
