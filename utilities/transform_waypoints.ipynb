{
 "cells": [
  {
   "cell_type": "code",
   "execution_count": 2,
   "metadata": {},
   "outputs": [],
   "source": [
    "import numpy as np\n",
    "import pandas as pd\n",
    "from roar_py_carla.carla_agents.navigation.global_route_planner import GlobalRoutePlanner"
   ]
  },
  {
   "cell_type": "code",
   "execution_count": 9,
   "metadata": {},
   "outputs": [],
   "source": [
    "dat = pd.read_csv(\"waypoints_new.txt\", header=None)"
   ]
  },
  {
   "cell_type": "code",
   "execution_count": 10,
   "metadata": {},
   "outputs": [
    {
     "name": "stdout",
     "output_type": "stream",
     "text": [
      "               0           1\n",
      "0    -283.799988  391.699982\n",
      "1    -284.649414  393.758057\n",
      "2    -289.493134  407.954468\n",
      "3    -290.138977  409.847321\n",
      "4    -290.784790  411.740173\n",
      "...          ...         ...\n",
      "2768 -280.714661  381.370667\n",
      "2769 -281.256531  383.295868\n",
      "2770 -281.824463  385.213501\n",
      "2771 -282.418396  387.123260\n",
      "2772 -283.038177  389.024780\n",
      "\n",
      "[2773 rows x 2 columns]\n"
     ]
    }
   ],
   "source": [
    "print(dat)"
   ]
  },
  {
   "cell_type": "code",
   "execution_count": 16,
   "metadata": {},
   "outputs": [
    {
     "name": "stdout",
     "output_type": "stream",
     "text": [
      "[[-283.79998779  391.69998169]\n",
      " [-284.64941406  393.75805664]\n",
      " [-289.49313354  407.95446777]\n",
      " ...\n",
      " [-281.82446289  385.21350098]\n",
      " [-282.418396    387.1232605 ]\n",
      " [-283.03817749  389.02478027]]\n"
     ]
    }
   ],
   "source": [
    "dat_np = np.asarray(dat)\n",
    "print(dat_np)"
   ]
  },
  {
   "cell_type": "code",
   "execution_count": 15,
   "metadata": {},
   "outputs": [
    {
     "name": "stdout",
     "output_type": "stream",
     "text": [
      "(2773, 2)\n"
     ]
    },
    {
     "ename": "IndexError",
     "evalue": "index 2 is out of bounds for axis 1 with size 2",
     "output_type": "error",
     "traceback": [
      "\u001b[1;31m---------------------------------------------------------------------------\u001b[0m",
      "\u001b[1;31mIndexError\u001b[0m                                Traceback (most recent call last)",
      "Cell \u001b[1;32mIn[15], line 3\u001b[0m\n\u001b[0;32m      1\u001b[0m dat_np\n\u001b[0;32m      2\u001b[0m \u001b[38;5;28mprint\u001b[39m(dat_np\u001b[38;5;241m.\u001b[39mshape)\n\u001b[1;32m----> 3\u001b[0m dat_np \u001b[38;5;241m=\u001b[39m \u001b[43mdat_np\u001b[49m\u001b[43m[\u001b[49m\u001b[43m:\u001b[49m\u001b[43m,\u001b[49m\u001b[43m[\u001b[49m\u001b[38;5;241;43m0\u001b[39;49m\u001b[43m,\u001b[49m\u001b[38;5;241;43m2\u001b[39;49m\u001b[43m,\u001b[49m\u001b[38;5;241;43m1\u001b[39;49m\u001b[43m]\u001b[49m\u001b[43m]\u001b[49m\n\u001b[0;32m      4\u001b[0m dat_np_sparse \u001b[38;5;241m=\u001b[39m dat_np[::\u001b[38;5;241m50\u001b[39m,:]\n\u001b[0;32m      5\u001b[0m \u001b[38;5;28mprint\u001b[39m(dat_np_sparse\u001b[38;5;241m.\u001b[39mshape)\n",
      "\u001b[1;31mIndexError\u001b[0m: index 2 is out of bounds for axis 1 with size 2"
     ]
    }
   ],
   "source": [
    "dat_np\n",
    "print(dat_np.shape)\n",
    "dat_np = dat_np[:,[0,2,1]]\n",
    "dat_np_sparse = dat_np[::50,:]\n",
    "print(dat_np_sparse.shape)"
   ]
  },
  {
   "cell_type": "code",
   "execution_count": 14,
   "metadata": {},
   "outputs": [
    {
     "data": {
      "text/plain": [
       "array([[ -283.79998779,   391.69998169],\n",
       "       [ -318.99038696,   499.10308838],\n",
       "       [ -326.10552979,   598.36688232],\n",
       "       [ -303.95117188,   695.20672607],\n",
       "       [ -246.37416077,   776.7477417 ],\n",
       "       [ -168.80148315,   839.03460693],\n",
       "       [  -72.14686584,   870.10272217],\n",
       "       [   29.24804115,   889.32128906],\n",
       "       [  131.96983337,   899.65863037],\n",
       "       [  234.97224426,   908.3347168 ],\n",
       "       [  335.88815308,   923.16265869],\n",
       "       [  402.26571655,   992.04974365],\n",
       "       [  496.09024048,  1026.64648438],\n",
       "       [  589.96618652,  1061.10266113],\n",
       "       [  688.94171143,  1078.09069824],\n",
       "       [  742.60821533,   995.34661865],\n",
       "       [  757.78344727,   893.03460693],\n",
       "       [  769.40740967,   788.75390625],\n",
       "       [  723.30834961,   709.42022705],\n",
       "       [  630.17938232,   657.4005127 ],\n",
       "       [  542.42199707,   604.81500244],\n",
       "       [  459.56112671,   549.0559082 ],\n",
       "       [  384.54058838,   482.99816895],\n",
       "       [  311.83071899,   414.34857178],\n",
       "       [  240.26960754,   344.50588989],\n",
       "       [  169.01208496,   274.36358643],\n",
       "       [   95.84951782,   206.19290161],\n",
       "       [   22.57987976,   138.13781738],\n",
       "       [   -8.64193726,    51.03643036],\n",
       "       [  -41.66625977,   -40.16207504],\n",
       "       [  -75.09283447,  -128.87944031],\n",
       "       [  -82.88818359,  -228.5735321 ],\n",
       "       [  -86.69205475,  -328.50091553],\n",
       "       [  -90.43967438,  -428.43066406],\n",
       "       [  -94.35367584,  -528.35327148],\n",
       "       [  -99.28378296,  -628.23162842],\n",
       "       [ -104.21389008,  -728.11004639],\n",
       "       [ -109.14399719,  -827.98840332],\n",
       "       [ -114.07409668,  -927.86682129],\n",
       "       [ -133.28762817, -1024.89611816],\n",
       "       [ -227.19061279, -1061.26635742],\n",
       "       [ -312.04483032, -1003.78668213],\n",
       "       [ -354.24389648,  -908.88641357],\n",
       "       [ -365.65393066,  -807.59802246],\n",
       "       [ -371.18499756,  -707.75909424],\n",
       "       [ -370.40060425,  -607.83154297],\n",
       "       [ -365.71121216,  -507.94152832],\n",
       "       [ -361.02185059,  -408.05154419],\n",
       "       [ -356.3324585 ,  -308.16156006],\n",
       "       [ -352.11560059,  -208.25247192],\n",
       "       [ -348.77984619,  -108.30813599],\n",
       "       [ -345.44412231,    -8.36378479],\n",
       "       [ -342.10836792,    91.58058167],\n",
       "       [ -338.77261353,   191.5249176 ],\n",
       "       [ -335.37768555,   291.46673584],\n",
       "       [ -277.05838013,   345.9961853 ]])"
      ]
     },
     "execution_count": 14,
     "metadata": {},
     "output_type": "execute_result"
    }
   ],
   "source": [
    "dat_np_sparse"
   ]
  },
  {
   "cell_type": "code",
   "execution_count": 4,
   "metadata": {},
   "outputs": [
    {
     "ename": "NameError",
     "evalue": "name 'dat_np_sparse' is not defined",
     "output_type": "error",
     "traceback": [
      "\u001b[1;31m---------------------------------------------------------------------------\u001b[0m",
      "\u001b[1;31mNameError\u001b[0m                                 Traceback (most recent call last)",
      "Cell \u001b[1;32mIn[4], line 14\u001b[0m\n\u001b[0;32m     10\u001b[0m grp \u001b[38;5;241m=\u001b[39m GlobalRoutePlanner(roar_py_world\u001b[38;5;241m.\u001b[39m_native_carla_map, \u001b[38;5;241m2.0\u001b[39m)\n\u001b[0;32m     11\u001b[0m native_ws \u001b[38;5;241m=\u001b[39m []\n\u001b[1;32m---> 14\u001b[0m \u001b[38;5;28;01mfor\u001b[39;00m i \u001b[38;5;129;01min\u001b[39;00m \u001b[38;5;28mrange\u001b[39m(\u001b[38;5;28mlen\u001b[39m(\u001b[43mdat_np_sparse\u001b[49m)):\n\u001b[0;32m     15\u001b[0m     curr_start \u001b[38;5;241m=\u001b[39m dat_np_sparse[i]\n\u001b[0;32m     16\u001b[0m     curr_end \u001b[38;5;241m=\u001b[39m dat_np_sparse[(i\u001b[38;5;241m+\u001b[39m\u001b[38;5;241m1\u001b[39m)\u001b[38;5;241m%\u001b[39m\u001b[38;5;28mlen\u001b[39m(dat_np_sparse)]\n",
      "\u001b[1;31mNameError\u001b[0m: name 'dat_np_sparse' is not defined"
     ]
    }
   ],
   "source": [
    "import carla\n",
    "import roar_py_carla\n",
    "import roar_py_interface\n",
    "import networkx as nx\n",
    "\n",
    "carla_client = carla.Client('localhost', 2000)\n",
    "carla_client.set_timeout(5.0)\n",
    "roar_py_instance = roar_py_carla.RoarPyCarlaInstance(carla_client)\n",
    "roar_py_world = roar_py_instance.world\n",
    "grp = GlobalRoutePlanner(roar_py_world._native_carla_map, 2.0)\n",
    "native_ws = []\n",
    "\n",
    "\n",
    "for i in range(len(dat_np_sparse)):\n",
    "    curr_start = dat_np_sparse[i]\n",
    "    curr_end = dat_np_sparse[(i+1)%len(dat_np_sparse)]\n",
    "    loc_1 = carla.Location(curr_start[0], curr_start[1], curr_start[2])\n",
    "    loc_2 = carla.Location(curr_end[0], curr_end[1], curr_end[2])\n",
    "    try:\n",
    "        native_ws += grp.trace_route(loc_1, loc_2)\n",
    "    except nx.NetworkXNoPath:\n",
    "        continue"
   ]
  },
  {
   "cell_type": "code",
   "execution_count": 16,
   "metadata": {},
   "outputs": [],
   "source": [
    "real_ws = []\n",
    "for native_ww in native_ws:\n",
    "    w = native_ww[0]\n",
    "    transform_w = roar_py_carla.transform_from_carla(w.transform)\n",
    "    transform_w[1][2] += np.pi/2\n",
    "    real_w = roar_py_interface.RoarPyWaypoint(\n",
    "        transform_w[0],\n",
    "        transform_w[1],\n",
    "        w.lane_width\n",
    "    )\n",
    "    real_ws.append(real_w)"
   ]
  },
  {
   "cell_type": "code",
   "execution_count": 17,
   "metadata": {},
   "outputs": [],
   "source": [
    "np.savez_compressed(\"final_major_map_waypoints.npz\", **roar_py_interface.RoarPyWaypoint.save_waypoint_list(real_ws))"
   ]
  },
  {
   "cell_type": "code",
   "execution_count": 28,
   "metadata": {},
   "outputs": [
    {
     "name": "stdout",
     "output_type": "stream",
     "text": [
      "final length 6942\n",
      "[-4372.60009766 -2599.19995117   104.74610138]\n"
     ]
    }
   ],
   "source": [
    "from roar_py_interface import RoarPyWaypoint\n",
    "from typing import List, Tuple\n",
    "from roar_py_carla.utils import *\n",
    "import carla\n",
    "\n",
    "def generate_waypoints(locations : List[np.ndarray], distance_between_waypoints : float, lane_width : float):\n",
    "    locations = [location_from_carla(carla.Location(x=location[0], y=location[1], z=location[2])) for location in locations]\n",
    "    waypoint_locations = [locations[0]]\n",
    "    waypoint_rotations = []\n",
    "    last_location_idx = 0\n",
    "    for i in range(1,len(locations)):\n",
    "        next_location = locations[i]\n",
    "        dist_to_last_location = np.linalg.norm(next_location - locations[last_location_idx])\n",
    "        if dist_to_last_location > distance_between_waypoints:\n",
    "            waypoint_locations.append(next_location)\n",
    "            waypoint_rotations.append(np.arctan2(next_location[1] - locations[last_location_idx][1], next_location[0] - locations[last_location_idx][0]))\n",
    "            last_location_idx = i\n",
    "    waypoint_rotations.append(np.arctan2(locations[0][1] - waypoint_locations[-1][1], locations[0][0] - waypoint_locations[-1][0]))\n",
    "    waypoints = []\n",
    "    for i in range(len(waypoint_locations)):\n",
    "        waypoints.append(RoarPyWaypoint(\n",
    "            waypoint_locations[i],\n",
    "            np.array([0,0,waypoint_rotations[i]]),\n",
    "            lane_width\n",
    "        ))\n",
    "    return waypoints\n",
    "\n",
    "waypoints = generate_waypoints(dat_np, 2, 3.5)\n",
    "print(\"final length\",len(waypoints))\n",
    "\n",
    "np.savez_compressed(\"final_major_map_waypoints.npz\", **RoarPyWaypoint.save_waypoint_list(waypoints))\n",
    "print(waypoints[0].location)"
   ]
  },
  {
   "cell_type": "code",
   "execution_count": 26,
   "metadata": {},
   "outputs": [
    {
     "name": "stdout",
     "output_type": "stream",
     "text": [
      "(11, 3)\n"
     ]
    }
   ],
   "source": [
    "\n",
    "def generate_spawn_points(waypoints : List[RoarPyWaypoint]) -> Tuple[np.ndarray, np.ndarray]:\n",
    "    spawn_point_locations = []\n",
    "    spawn_rotations = []\n",
    "    for spawn_point in waypoints[::len(waypoints)//10]:\n",
    "        spawn_point_locations.append(spawn_point.location)\n",
    "        spawn_rotations.append(spawn_point.roll_pitch_yaw)\n",
    "    return np.stack(spawn_point_locations, axis=0), np.stack(spawn_rotations, axis=0)\n",
    "\n",
    "spawn_point_locations, spawn_rotations = generate_spawn_points(waypoints)\n",
    "print(spawn_point_locations.shape)\n",
    "np.savez_compressed(\"final_major_map_spawn_points.npz\", locations=spawn_point_locations, rotations=spawn_rotations)"
   ]
  },
  {
   "cell_type": "code",
   "execution_count": null,
   "metadata": {},
   "outputs": [],
   "source": []
  }
 ],
 "metadata": {
  "kernelspec": {
   "display_name": "roar_py",
   "language": "python",
   "name": "python3"
  },
  "language_info": {
   "codemirror_mode": {
    "name": "ipython",
    "version": 3
   },
   "file_extension": ".py",
   "mimetype": "text/x-python",
   "name": "python",
   "nbconvert_exporter": "python",
   "pygments_lexer": "ipython3",
   "version": "3.8.19"
  },
  "orig_nbformat": 4
 },
 "nbformat": 4,
 "nbformat_minor": 2
}
